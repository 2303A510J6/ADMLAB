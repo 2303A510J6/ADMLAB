{
  "nbformat": 4,
  "nbformat_minor": 0,
  "metadata": {
    "colab": {
      "provenance": [],
      "authorship_tag": "ABX9TyNhTzZJPwiJdZ+oAJ/Qixpm",
      "include_colab_link": true
    },
    "kernelspec": {
      "name": "python3",
      "display_name": "Python 3"
    },
    "language_info": {
      "name": "python"
    }
  },
  "cells": [
    {
      "cell_type": "markdown",
      "metadata": {
        "id": "view-in-github",
        "colab_type": "text"
      },
      "source": [
        "<a href=\"https://colab.research.google.com/github/2303A510J6/ADMLAB/blob/main/adm_lab1_10j6.ipynb\" target=\"_parent\"><img src=\"https://colab.research.google.com/assets/colab-badge.svg\" alt=\"Open In Colab\"/></a>"
      ]
    },
    {
      "cell_type": "code",
      "execution_count": 14,
      "metadata": {
        "colab": {
          "base_uri": "https://localhost:8080/"
        },
        "id": "1Xi0wx1umNHv",
        "outputId": "17e65a76-e28f-435e-e690-8ad1a3329bce"
      },
      "outputs": [
        {
          "output_type": "stream",
          "name": "stdout",
          "text": [
            "File exists: False\n"
          ]
        }
      ],
      "source": [
        "import os\n",
        "file_exists = os.path.exists('/content/Car_Insurance_Claim.csv')\n",
        "print(f\"File exists: {file_exists}\")\n",
        "\n",
        "if file_exists:\n",
        "  print(f\"Absolute path: {os.path.abspath('/content/Car_Insurance_Claim.csv')}\")"
      ]
    },
    {
      "cell_type": "code",
      "source": [
        "import pandas as pd\n",
        "import os\n",
        "file_exists = os.path.exists('/content/Car_Insurance_Claim.csv')\n",
        "print(f\"File exists: {file_exists}\")\n",
        "\n",
        "if file_exists:\n",
        "  print(f\"Absolute path: {os.path.abspath('/content/Car_Insurance_Claim.csv')}\")\n",
        "  data = pd.read_csv('/content/Car_Insurance_Claim.csv')\n",
        "  print(data.isnull().sum())\n",
        "else:\n",
        "  print(\"File not found. 'data' variable cannot be used.\")"
      ],
      "metadata": {
        "colab": {
          "base_uri": "https://localhost:8080/"
        },
        "id": "hiBPqnFbn9iF",
        "outputId": "9909c1b4-7482-422b-bcd1-2bdcbffd1635"
      },
      "execution_count": 13,
      "outputs": [
        {
          "output_type": "stream",
          "name": "stdout",
          "text": [
            "File exists: False\n",
            "File not found. 'data' variable cannot be used.\n"
          ]
        }
      ]
    },
    {
      "cell_type": "code",
      "source": [
        "import pandas as pd\n",
        "import os\n",
        "\n",
        "# Check if the file exists\n",
        "file_exists = os.path.exists('/content/Car_Insurance_Claim.csv')\n",
        "print(f\"File exists: {file_exists}\")\n",
        "\n",
        "# If the file exists, read it into a pandas DataFrame\n",
        "if file_exists:\n",
        "  print(f\"Absolute path: {os.path.abspath('/content/Car_Insurance_Claim.csv')}\")\n",
        "  data = pd.read_csv('/content/Car_Insurance_Claim.csv')\n",
        "  print(data.isnull().sum())\n",
        "\n",
        "  # Now that 'data' is defined, you can work with it:\n",
        "  data['ANNUAL_MILEAGE'].fillna(data['ANNUAL_MILEAGE'].median(), inplace=True)\n",
        "else:\n",
        "  print(\"File not found. 'data' variable cannot be used.\")"
      ],
      "metadata": {
        "colab": {
          "base_uri": "https://localhost:8080/"
        },
        "id": "5rkXfds5ogHD",
        "outputId": "d1d2bf7b-7974-4860-ce06-7ae446f9dcee"
      },
      "execution_count": 17,
      "outputs": [
        {
          "output_type": "stream",
          "name": "stdout",
          "text": [
            "File exists: False\n",
            "File not found. 'data' variable cannot be used.\n"
          ]
        }
      ]
    },
    {
      "cell_type": "code",
      "source": [
        "import pandas as pd\n",
        "import os\n",
        "from sklearn.preprocessing import MinMaxScaler\n",
        "\n",
        "# Check if the file exists\n",
        "file_exists = os.path.exists('/content/Car_Insurance_Claim.csv')\n",
        "print(f\"File exists: {file_exists}\")\n",
        "\n",
        "# If the file exists, read it into a pandas DataFrame\n",
        "if file_exists:\n",
        "  print(f\"Absolute path: {os.path.abspath('/content/Car_Insurance_Claim.csv')}\")\n",
        "  data = pd.read_csv('/content/Car_Insurance_Claim.csv')\n",
        "  print(data.isnull().sum())\n",
        "\n",
        "  # Now that 'data' is defined, you can work with it:\n",
        "  data['ANNUAL_MILEAGE'].fillna(data['ANNUAL_MILEAGE'].median(), inplace=True)\n",
        "\n",
        "  # Perform scaling if data is loaded successfully\n",
        "  scaler = MinMaxScaler()\n",
        "  columns_to_normalize = ['ID']\n",
        "  data[columns_to_normalize] = scaler.fit_transform(data[columns_to_normalize])\n",
        "  print(data[columns_to_normalize].head()) # Print to check results\n",
        "else:\n",
        "  print(\"File not found. 'data' variable cannot be used.\")"
      ],
      "metadata": {
        "colab": {
          "base_uri": "https://localhost:8080/"
        },
        "id": "6w3kJx9nqgje",
        "outputId": "1f460f79-d5c9-4cb9-fba3-6a5a8e3d482b"
      },
      "execution_count": 21,
      "outputs": [
        {
          "output_type": "stream",
          "name": "stdout",
          "text": [
            "File exists: False\n",
            "File not found. 'data' variable cannot be used.\n"
          ]
        }
      ]
    },
    {
      "cell_type": "code",
      "source": [
        "import pandas as pd\n",
        "import os\n",
        "from sklearn.preprocessing import MinMaxScaler\n",
        "\n",
        "file_exists = os.path.exists('/content/Car_Insurance_Claim.csv')\n",
        "print(f\"File exists: {file_exists}\")\n",
        "\n",
        "if file_exists:\n",
        "  print(f\"Absolute path: {os.path.abspath('/content/Car_Insurance_Claim.csv')}\")\n",
        "  data = pd.read_csv('/content/Car_Insurance_Claim.csv')\n",
        "  print(data.isnull().sum())\n",
        "\n",
        "  data['ANNUAL_MILEAGE'].fillna(data['ANNUAL_MILEAGE'].median(), inplace=True)\n",
        "\n",
        "  scaler = MinMaxScaler()\n",
        "  columns_to_normalize = ['ID']\n",
        "  data[columns_to_normalize] = scaler.fit_transform(data[columns_to_normalize])\n",
        "  print(data[columns_to_normalize].head())\n",
        "\n",
        "  data.head()\n",
        "else:\n",
        "  print(\"File not found. 'data' variable cannot be used.\")"
      ],
      "metadata": {
        "colab": {
          "base_uri": "https://localhost:8080/"
        },
        "id": "O5AySvu4q-SU",
        "outputId": "eac497ea-ff14-4b98-f764-cec49c95e6a2"
      },
      "execution_count": 24,
      "outputs": [
        {
          "output_type": "stream",
          "name": "stdout",
          "text": [
            "File exists: False\n",
            "File not found. 'data' variable cannot be used.\n"
          ]
        }
      ]
    }
  ]
}